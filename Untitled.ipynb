{
 "cells": [
  {
   "cell_type": "code",
   "execution_count": 3,
   "metadata": {},
   "outputs": [],
   "source": [
    "import chess.pgn\n",
    "import os"
   ]
  },
  {
   "cell_type": "code",
   "execution_count": 6,
   "metadata": {},
   "outputs": [],
   "source": [
    "game = open('./chess_games_pgn/pgnmentor_library/classical_queen_pawn/BishopsOpening.pgn')\n",
    "game = chess.pgn.read_game(game)"
   ]
  },
  {
   "cell_type": "code",
   "execution_count": 9,
   "metadata": {},
   "outputs": [],
   "source": [
    "board = game.board()"
   ]
  },
  {
   "cell_type": "code",
   "execution_count": 10,
   "metadata": {},
   "outputs": [],
   "source": [
    "list_of_moves = []\n",
    "for i, move in enumerate(game.mainline_moves()):\n",
    "            board.push(move)\n",
    "            list_of_moves.append(str(move))"
   ]
  },
  {
   "cell_type": "code",
   "execution_count": 11,
   "metadata": {},
   "outputs": [
    {
     "data": {
      "text/plain": [
       "['e2e4',\n",
       " 'e7e5',\n",
       " 'f1c4',\n",
       " 'f8c5',\n",
       " 'c2c3',\n",
       " 'g8f6',\n",
       " 'd2d4',\n",
       " 'e5d4',\n",
       " 'c3d4',\n",
       " 'c5b6',\n",
       " 'b1c3',\n",
       " 'e8g8',\n",
       " 'g1e2',\n",
       " 'c7c6',\n",
       " 'c4d3',\n",
       " 'd7d5',\n",
       " 'e4e5',\n",
       " 'f6e8',\n",
       " 'c1e3',\n",
       " 'f7f6',\n",
       " 'd1d2',\n",
       " 'f6e5',\n",
       " 'd4e5',\n",
       " 'c8e6',\n",
       " 'e2f4',\n",
       " 'd8e7',\n",
       " 'e3b6',\n",
       " 'a7b6',\n",
       " 'e1g1',\n",
       " 'b8d7',\n",
       " 'f4e6',\n",
       " 'e7e6',\n",
       " 'f2f4',\n",
       " 'e8c7',\n",
       " 'a1e1',\n",
       " 'g7g6',\n",
       " 'h2h3',\n",
       " 'd5d4',\n",
       " 'c3e4',\n",
       " 'h7h6',\n",
       " 'b2b3',\n",
       " 'b6b5',\n",
       " 'g2g4',\n",
       " 'c7d5',\n",
       " 'e4g3',\n",
       " 'd5e3',\n",
       " 'e1e3',\n",
       " 'd4e3',\n",
       " 'd2e3',\n",
       " 'a8a2',\n",
       " 'f1e1',\n",
       " 'e6b3',\n",
       " 'e3e4',\n",
       " 'b3e6',\n",
       " 'f4f5',\n",
       " 'g6f5',\n",
       " 'g4f5',\n",
       " 'e6d5',\n",
       " 'e4d5',\n",
       " 'c6d5',\n",
       " 'd3b5',\n",
       " 'd7b6',\n",
       " 'f5f6',\n",
       " 'a2b2',\n",
       " 'b5d3',\n",
       " 'g8f7',\n",
       " 'd3f5',\n",
       " 'b6c4',\n",
       " 'g3h5',\n",
       " 'f8g8',\n",
       " 'f5g4',\n",
       " 'c4d2',\n",
       " 'e5e6',\n",
       " 'f7g6',\n",
       " 'f6f7',\n",
       " 'g8f8',\n",
       " 'h5f4',\n",
       " 'g6g7',\n",
       " 'g4h5']"
      ]
     },
     "execution_count": 11,
     "metadata": {},
     "output_type": "execute_result"
    }
   ],
   "source": [
    "list_of_moves\n"
   ]
  },
  {
   "cell_type": "code",
   "execution_count": 12,
   "metadata": {},
   "outputs": [
    {
     "data": {
      "text/plain": [
       "2304"
      ]
     },
     "execution_count": 12,
     "metadata": {},
     "output_type": "execute_result"
    }
   ],
   "source": [
    "36*64"
   ]
  },
  {
   "cell_type": "code",
   "execution_count": null,
   "metadata": {},
   "outputs": [],
   "source": []
  }
 ],
 "metadata": {
  "kernelspec": {
   "display_name": "Python 3",
   "language": "python",
   "name": "python3"
  },
  "language_info": {
   "codemirror_mode": {
    "name": "ipython",
    "version": 3
   },
   "file_extension": ".py",
   "mimetype": "text/x-python",
   "name": "python",
   "nbconvert_exporter": "python",
   "pygments_lexer": "ipython3",
   "version": "3.7.4"
  }
 },
 "nbformat": 4,
 "nbformat_minor": 4
}
